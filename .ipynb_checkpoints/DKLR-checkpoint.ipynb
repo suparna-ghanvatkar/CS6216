{
 "cells": [
  {
   "cell_type": "code",
   "execution_count": 1,
   "id": "integrated-ireland",
   "metadata": {},
   "outputs": [],
   "source": [
    "import torch\n",
    "import torch.nn as nn\n",
    "import torch.nn.functional as F"
   ]
  },
  {
   "cell_type": "code",
   "execution_count": 2,
   "id": "daily-trader",
   "metadata": {},
   "outputs": [
    {
     "ename": "NameError",
     "evalue": "name 'WordEmbeddingsLP' is not defined",
     "output_type": "error",
     "traceback": [
      "\u001b[0;31m---------------------------------------------------------------------------\u001b[0m",
      "\u001b[0;31mNameError\u001b[0m                                 Traceback (most recent call last)",
      "\u001b[0;32m<ipython-input-2-1fc5626c580a>\u001b[0m in \u001b[0;36m<module>\u001b[0;34m\u001b[0m\n\u001b[0;32m----> 1\u001b[0;31m \u001b[0;32mclass\u001b[0m \u001b[0mDKRL\u001b[0m\u001b[0;34m(\u001b[0m\u001b[0mWordEmbeddingsLP\u001b[0m\u001b[0;34m)\u001b[0m\u001b[0;34m:\u001b[0m\u001b[0;34m\u001b[0m\u001b[0;34m\u001b[0m\u001b[0m\n\u001b[0m\u001b[1;32m      2\u001b[0m     \"\"\"Description-Embodied Knowledge Representation Learning (DKRL) with CNN\n\u001b[1;32m      3\u001b[0m     \u001b[0mencoder\u001b[0m\u001b[0;34m,\u001b[0m \u001b[0mafter\u001b[0m\u001b[0;34m\u001b[0m\u001b[0;34m\u001b[0m\u001b[0m\n\u001b[1;32m      4\u001b[0m     \u001b[0mZuo\u001b[0m\u001b[0;34m,\u001b[0m \u001b[0mYukun\u001b[0m\u001b[0;34m,\u001b[0m \u001b[0met\u001b[0m \u001b[0mal\u001b[0m\u001b[0;34m.\u001b[0m\u001b[0;31m \u001b[0m\u001b[0;31m\"\u001b[0m\u001b[0mRepresentation\u001b[0m \u001b[0mlearning\u001b[0m \u001b[0mof\u001b[0m \u001b[0mknowledge\u001b[0m \u001b[0mgraphs\u001b[0m \u001b[0;32mwith\u001b[0m\u001b[0;34m\u001b[0m\u001b[0;34m\u001b[0m\u001b[0m\n\u001b[1;32m      5\u001b[0m     \u001b[0mentity\u001b[0m \u001b[0mattributes\u001b[0m \u001b[0;32mand\u001b[0m \u001b[0mmultimedia\u001b[0m \u001b[0mdescriptions\u001b[0m\u001b[0;34m.\u001b[0m\u001b[0;31m\"\u001b[0m\u001b[0;34m\u001b[0m\u001b[0;34m\u001b[0m\u001b[0m\n",
      "\u001b[0;31mNameError\u001b[0m: name 'WordEmbeddingsLP' is not defined"
     ]
    }
   ],
   "source": [
    "class DKRL(WordEmbeddingsLP):\n",
    "    \"\"\"Description-Embodied Knowledge Representation Learning (DKRL) with CNN\n",
    "    encoder, after\n",
    "    Zuo, Yukun, et al. \"Representation learning of knowledge graphs with\n",
    "    entity attributes and multimedia descriptions.\"\n",
    "    \"\"\"\n",
    "\n",
    "    def __init__(self, dim, rel_model, loss_fn, num_relations, regularizer,\n",
    "                 encoder_name=None, embeddings=None):\n",
    "        super().__init__(rel_model, loss_fn, num_relations, regularizer,\n",
    "                         dim, encoder_name, embeddings)\n",
    "\n",
    "        emb_dim = self.embeddings.embedding_dim\n",
    "        self.conv1 = nn.Conv1d(emb_dim, self.dim, kernel_size=2)\n",
    "        self.conv2 = nn.Conv1d(self.dim, self.dim, kernel_size=2)\n",
    "\n",
    "    def _encode_entity(self, text_tok, text_mask):\n",
    "        if text_mask is None:\n",
    "            text_mask = torch.ones_like(text_tok, dtype=torch.float)\n",
    "        # Extract word embeddings and mask padding\n",
    "        embs = self.embeddings(text_tok) * text_mask.unsqueeze(dim=-1)\n",
    "\n",
    "        # Reshape to (N, C, L)\n",
    "        embs = embs.transpose(1, 2)\n",
    "        text_mask = text_mask.unsqueeze(1)\n",
    "\n",
    "        # Pass through CNN, adding padding for valid convolutions\n",
    "        # and masking outputs due to padding\n",
    "        embs = F.pad(embs, [0, 1])\n",
    "        embs = self.conv1(embs)\n",
    "        embs = embs * text_mask\n",
    "        if embs.shape[2] >= 4:\n",
    "            kernel_size = 4\n",
    "        elif embs.shape[2] == 1:\n",
    "            kernel_size = 1\n",
    "        else:\n",
    "            kernel_size = 2\n",
    "        embs = F.max_pool1d(embs, kernel_size=kernel_size)\n",
    "        text_mask = F.max_pool1d(text_mask, kernel_size=kernel_size)\n",
    "        embs = torch.tanh(embs)\n",
    "        embs = F.pad(embs, [0, 1])\n",
    "        embs = self.conv2(embs)\n",
    "        lengths = torch.sum(text_mask, dim=-1)\n",
    "        embs = torch.sum(embs * text_mask, dim=-1) / lengths\n",
    "        embs = torch.tanh(embs)\n",
    "\n",
    "        return embs"
   ]
  }
 ],
 "metadata": {
  "kernelspec": {
   "display_name": "Python 3",
   "language": "python",
   "name": "python3"
  },
  "language_info": {
   "codemirror_mode": {
    "name": "ipython",
    "version": 3
   },
   "file_extension": ".py",
   "mimetype": "text/x-python",
   "name": "python",
   "nbconvert_exporter": "python",
   "pygments_lexer": "ipython3",
   "version": "3.8.8"
  }
 },
 "nbformat": 4,
 "nbformat_minor": 5
}
